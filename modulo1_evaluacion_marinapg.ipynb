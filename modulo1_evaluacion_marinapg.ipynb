{
 "cells": [
  {
   "cell_type": "code",
   "execution_count": 79,
   "metadata": {},
   "outputs": [],
   "source": [
    "class TiendaOnline:\n",
    "    def __init__(self):\n",
    "        self.inventario = [] \n",
    "        self.ventas_totales = {}\n",
    "\n",
    "\n",
    "    def agregar_stock(self):\n",
    "       stock = {'nombre': 'camiseta', 'precio': 20, 'cantidad': 40}, {'nombre': 'pantalon', 'precio': 20, 'cantidad': 40}, {'nombre': 'jersey', 'precio': 20, 'cantidad': 40}, {'nombre': 'calcetin', 'precio': 3, 'cantidad': 20}, {'nombre': 'vestido', 'precio': 35, 'cantidad': 41}, {'nombre': 'zapatillas', 'precio': 80, 'cantidad': 72} \n",
    "       for c in stock:\n",
    "           self.inventario.append(c)\n",
    "\n",
    "\n",
    "    def agregar_producto(self, nombre, precio, cantidad): \n",
    "        if len(self.inventario) == 0:\n",
    "            producto = {'nombre': nombre, 'precio': precio, 'cantidad': cantidad}\n",
    "            self.inventario.append(producto)\n",
    "            return\n",
    "        \n",
    "        for prod in self.inventario:\n",
    "            if prod['nombre'] == nombre:\n",
    "                prod['cantidad'] += cantidad  \n",
    "                break #funciona sin él, pero cuando ya lo encuentre parará de iterar\n",
    "\n",
    "            else:\n",
    "                producto = {'nombre': nombre, 'precio': precio, 'cantidad': cantidad}\n",
    "                self.inventario.append(producto)\n",
    "                break    \n",
    "\n",
    "\n",
    "    def ver_inventario(self):\n",
    "        for prendas in self.inventario:\n",
    "            print(f'Nombre: {prendas['nombre']}, Precio: ${prendas['precio']}, Cantidad: {prendas['cantidad']}') #las str 'Nombre', 'Precio$' 'Cantidad' para que se vea igual que en el enunciado y no con diccionarios impresos\n",
    "\n",
    "\n",
    "    def buscar_producto(self, nombre): #camiseta, 20, 3\n",
    "        for prenda in self.inventario:\n",
    "            if prenda['nombre'] == nombre:\n",
    "                return(f'Nombre: {prenda['nombre']}, Precio: ${prenda['precio']}, Cantidad: {prenda['cantidad']}')\n",
    "            \n",
    "\n",
    "    def actualizar_stock(self, nombre, cantidad):\n",
    "        for prenda in self.inventario:\n",
    "            if prenda['nombre'] == nombre:\n",
    "                prenda['cantidad'] += cantidad\n",
    "                return\n",
    "            \n",
    "        print(f'{nombre} no está en el stock')\n",
    "\n",
    "\n",
    "    def eliminar_producto(self, nombre):\n",
    "        for prendas in self.inventario:\n",
    "            if prendas['nombre'] == nombre:\n",
    "              self.inventario.remove(prendas)\n",
    "              return\n",
    "\n",
    "        print(f'el producto {nombre} no está en el stock')      \n",
    "\n",
    "    \n",
    "    def calcular_valor_inventario(self):\n",
    "        valor_inventario = 0\n",
    "        for prendas in self.inventario:\n",
    "            total_producto = prendas['precio'] * prendas['cantidad']\n",
    "            valor_inventario += total_producto\n",
    "        \n",
    "        return valor_inventario \n",
    "    \n",
    "\n"
   ]
  },
  {
   "cell_type": "code",
   "execution_count": 80,
   "metadata": {},
   "outputs": [],
   "source": [
    "my_shop = TiendaOnline()"
   ]
  },
  {
   "cell_type": "code",
   "execution_count": 83,
   "metadata": {},
   "outputs": [
    {
     "data": {
      "text/plain": [
       "{'inventario': [{'nombre': 'camiseta', 'precio': 20, 'cantidad': 40},\n",
       "  {'nombre': 'pantalon', 'precio': 20, 'cantidad': 40},\n",
       "  {'nombre': 'jersey', 'precio': 20, 'cantidad': 40},\n",
       "  {'nombre': 'calcetin', 'precio': 3, 'cantidad': 20},\n",
       "  {'nombre': 'vestido', 'precio': 35, 'cantidad': 41},\n",
       "  {'nombre': 'zapatillas', 'precio': 80, 'cantidad': 72}],\n",
       " 'ventas_totales': {}}"
      ]
     },
     "execution_count": 83,
     "metadata": {},
     "output_type": "execute_result"
    }
   ],
   "source": [
    "my_shop.__dict__"
   ]
  },
  {
   "cell_type": "code",
   "execution_count": 59,
   "metadata": {},
   "outputs": [],
   "source": [
    "my_shop.agregar_producto('top', 8, 20)"
   ]
  },
  {
   "cell_type": "code",
   "execution_count": 82,
   "metadata": {},
   "outputs": [],
   "source": [
    "my_shop.agregar_stock()"
   ]
  },
  {
   "cell_type": "code",
   "execution_count": null,
   "metadata": {},
   "outputs": [],
   "source": [
    "my_shop.ver_inventario()"
   ]
  },
  {
   "cell_type": "code",
   "execution_count": 39,
   "metadata": {},
   "outputs": [
    {
     "data": {
      "text/plain": [
       "'Nombre: camiseta, Precio: $20, Cantidad: 40'"
      ]
     },
     "execution_count": 39,
     "metadata": {},
     "output_type": "execute_result"
    }
   ],
   "source": [
    "my_shop.buscar_producto('camiseta')"
   ]
  },
  {
   "cell_type": "code",
   "execution_count": 48,
   "metadata": {},
   "outputs": [],
   "source": [
    "my_shop.actualizar_stock('pantalon', 20)"
   ]
  },
  {
   "cell_type": "code",
   "execution_count": 71,
   "metadata": {},
   "outputs": [
    {
     "name": "stdout",
     "output_type": "stream",
     "text": [
      "el producto falda no está en el stock\n"
     ]
    }
   ],
   "source": [
    "my_shop.eliminar_producto('falda')"
   ]
  },
  {
   "cell_type": "code",
   "execution_count": 72,
   "metadata": {},
   "outputs": [],
   "source": [
    "my_shop.eliminar_producto('vestido')"
   ]
  },
  {
   "cell_type": "code",
   "execution_count": 84,
   "metadata": {},
   "outputs": [
    {
     "data": {
      "text/plain": [
       "9655"
      ]
     },
     "execution_count": 84,
     "metadata": {},
     "output_type": "execute_result"
    }
   ],
   "source": [
    "my_shop.calcular_valor_inventario()"
   ]
  }
 ],
 "metadata": {
  "kernelspec": {
   "display_name": "base",
   "language": "python",
   "name": "python3"
  },
  "language_info": {
   "codemirror_mode": {
    "name": "ipython",
    "version": 3
   },
   "file_extension": ".py",
   "mimetype": "text/x-python",
   "name": "python",
   "nbconvert_exporter": "python",
   "pygments_lexer": "ipython3",
   "version": "3.12.7"
  }
 },
 "nbformat": 4,
 "nbformat_minor": 2
}
