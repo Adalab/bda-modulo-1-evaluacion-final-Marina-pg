{
 "cells": [
  {
   "cell_type": "code",
   "execution_count": 2,
   "metadata": {},
   "outputs": [],
   "source": [
    "class TiendaOnline:\n",
    "    def __init__(self):\n",
    "        self.inventario = [] \n",
    "        self.ventas_totales = {}\n",
    "\n",
    "\n",
    "    def agregar_stock(self):\n",
    "       stock = {'nombre': 'camiseta', 'precio': 20, 'cantidad': 40}, {'nombre': 'pantalon', 'precio': 20, 'cantidad': 40}, {'nombre': 'jersey', 'precio': 20, 'cantidad': 40}, {'nombre': 'calcetin', 'precio': 3, 'cantidad': 20}, {'nombre': 'vestido', 'precio': 35, 'cantidad': 41}, {'nombre': 'zapatillas', 'precio': 80, 'cantidad': 72} \n",
    "       for c in stock:\n",
    "           self.inventario.append(c)\n",
    "\n",
    "\n",
    "    def agregar_producto(self, nombre, precio, cantidad): \n",
    "        if len(self.inventario) == 0:\n",
    "            producto = {'nombre': nombre, 'precio': precio, 'cantidad': cantidad}\n",
    "            self.inventario.append(producto)\n",
    "            return"
   ]
  },
  {
   "cell_type": "code",
   "execution_count": 7,
   "metadata": {},
   "outputs": [],
   "source": [
    "my_shop = TiendaOnline()"
   ]
  },
  {
   "cell_type": "code",
   "execution_count": 10,
   "metadata": {},
   "outputs": [
    {
     "data": {
      "text/plain": [
       "{'inventario': [{'nombre': 'camiseta', 'precio': 20, 'cantidad': 40},\n",
       "  {'nombre': 'pantalon', 'precio': 20, 'cantidad': 40},\n",
       "  {'nombre': 'jersey', 'precio': 20, 'cantidad': 40},\n",
       "  {'nombre': 'calcetin', 'precio': 3, 'cantidad': 20},\n",
       "  {'nombre': 'vestido', 'precio': 35, 'cantidad': 41},\n",
       "  {'nombre': 'zapatillas', 'precio': 80, 'cantidad': 72}],\n",
       " 'ventas_totales': {}}"
      ]
     },
     "execution_count": 10,
     "metadata": {},
     "output_type": "execute_result"
    }
   ],
   "source": [
    "my_shop.__dict__"
   ]
  },
  {
   "cell_type": "code",
   "execution_count": 5,
   "metadata": {},
   "outputs": [],
   "source": [
    "my_shop.agregar_producto('top', 8, 20)"
   ]
  },
  {
   "cell_type": "code",
   "execution_count": 9,
   "metadata": {},
   "outputs": [],
   "source": [
    "my_shop.agregar_stock()"
   ]
  }
 ],
 "metadata": {
  "kernelspec": {
   "display_name": "base",
   "language": "python",
   "name": "python3"
  },
  "language_info": {
   "codemirror_mode": {
    "name": "ipython",
    "version": 3
   },
   "file_extension": ".py",
   "mimetype": "text/x-python",
   "name": "python",
   "nbconvert_exporter": "python",
   "pygments_lexer": "ipython3",
   "version": "3.12.7"
  }
 },
 "nbformat": 4,
 "nbformat_minor": 2
}
